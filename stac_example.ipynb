{
 "cells": [
  {
   "cell_type": "code",
   "execution_count": null,
   "id": "af2d92fa-e333-4a4c-94ae-4c32075b78a3",
   "metadata": {},
   "outputs": [],
   "source": [
    "import xarray as xr\n",
    "import pystac_client\n",
    "import odc.stac\n",
    "from odc.geo.geobox import GeoBox\n",
    "from dask.diagnostics import ProgressBar\n",
    "from rasterio.enums import Resampling\n",
    "import geopandas as gpd\n",
    "import planetary_computer as pc"
   ]
  },
  {
   "cell_type": "code",
   "execution_count": null,
   "id": "07b803cd-ca82-43f3-bbe9-5d1de5897ff5",
   "metadata": {},
   "outputs": [],
   "source": [
    "sa_bounds = gpd.read_file(\"./data/sa_bounds.gpkg\")"
   ]
  },
  {
   "cell_type": "code",
   "execution_count": null,
   "id": "cad40fa3-cea4-40bf-9f48-acbca384e405",
   "metadata": {},
   "outputs": [],
   "source": [
    "sa_bounds.plot()"
   ]
  },
  {
   "cell_type": "code",
   "execution_count": null,
   "id": "9f57a6c2-5676-4fa0-ba13-b9e0aeccbeb4",
   "metadata": {},
   "outputs": [],
   "source": [
    "minx,miny,maxx,maxy = sa_bounds.total_bounds"
   ]
  },
  {
   "cell_type": "code",
   "execution_count": null,
   "id": "ce202b37-2a11-493b-b5f8-7b2667c04a95",
   "metadata": {},
   "outputs": [],
   "source": [
    "geom = {\n",
    "    'type': 'Polygon',\n",
    "    'coordinates': [[\n",
    "       [minx, miny],\n",
    "       [minx, maxy],\n",
    "       [maxx, maxy],\n",
    "       [maxx, miny],\n",
    "       [minx, miny]\n",
    "    ]]\n",
    "}\n"
   ]
  },
  {
   "cell_type": "code",
   "execution_count": null,
   "id": "4d341bd1-37dc-48d0-83f0-83ed9cf3bae7",
   "metadata": {},
   "outputs": [],
   "source": [
    "items = pystac_client.Client.open(\n",
    "    'https://planetarycomputer.microsoft.com/api/stac/v1'\n",
    ").search(\n",
    "    bbox=[minx,miny,maxx,maxy],\n",
    "    collections=[\"sentinel-2-l2a\"],\n",
    "    datetime=\"2020-03-01/2020-03-31\"\n",
    ").item_collection()\n",
    "\n",
    "print(len(items), \"scenes found\")"
   ]
  },
  {
   "cell_type": "code",
   "execution_count": null,
   "id": "f625d885-871b-4b9a-bb44-e41f5864ef80",
   "metadata": {},
   "outputs": [],
   "source": [
    "bbox_hart = sa_bounds.to_crs(\"EPSG:9221\") "
   ]
  },
  {
   "cell_type": "code",
   "execution_count": null,
   "id": "0ace24c6-49b9-44b4-911b-28f1ec1ebea3",
   "metadata": {},
   "outputs": [],
   "source": [
    "dx = 1000\n",
    "geobox = GeoBox.from_bbox(bbox_hart.total_bounds, crs=\"EPSG:9221\", resolution=dx)"
   ]
  },
  {
   "cell_type": "code",
   "execution_count": null,
   "id": "ed51e136-128e-4b23-b224-ceaba8e07f8e",
   "metadata": {},
   "outputs": [],
   "source": [
    "geobox"
   ]
  },
  {
   "cell_type": "code",
   "execution_count": null,
   "id": "d4255f95-9e73-4204-bc98-6102ddd811fa",
   "metadata": {},
   "outputs": [],
   "source": [
    "# lazily combine items\n",
    "ds_odc = odc.stac.load(\n",
    "    items,\n",
    "    bands=[\"SCL\", \"B04\", \"B03\", \"B02\"],\n",
    "    chunks={'time': 1, 'x': 100, 'y': 100},\n",
    "    geobox=geobox,\n",
    "    resampling=\"bilinear\",\n",
    "    patch_url=pc.sign\n",
    ")"
   ]
  },
  {
   "cell_type": "code",
   "execution_count": null,
   "id": "56676e28-6dd9-43b0-b3d0-21dd00766569",
   "metadata": {},
   "outputs": [],
   "source": [
    "ds_odc"
   ]
  },
  {
   "cell_type": "code",
   "execution_count": null,
   "id": "0f0f81bc-d8eb-4e74-92c9-e16efd4a929f",
   "metadata": {
    "scrolled": true
   },
   "outputs": [],
   "source": [
    "with ProgressBar():\n",
    "    ds_odc.load()"
   ]
  },
  {
   "cell_type": "code",
   "execution_count": null,
   "id": "4f903115-6330-4aa2-a6fd-6f35dcd65e26",
   "metadata": {},
   "outputs": [],
   "source": [
    "ds_odc"
   ]
  },
  {
   "cell_type": "code",
   "execution_count": null,
   "id": "2b04d27d-5d03-4581-860f-6e56b1879b06",
   "metadata": {},
   "outputs": [],
   "source": [
    "def is_valid_pixel(data):\n",
    "    return ((data > 3) & (data < 7)) | (data==11)\n",
    "\n",
    "ds_odc['valid'] = is_valid_pixel(ds_odc.SCL)\n",
    "ds_odc.valid.sum(\"time\").plot()"
   ]
  },
  {
   "cell_type": "code",
   "execution_count": null,
   "id": "7ed3711a-1fc7-458d-b186-1f8db6f84c70",
   "metadata": {},
   "outputs": [],
   "source": [
    "ds_median = ds_odc.where(ds_odc.valid).median(dim=\"time\")"
   ]
  },
  {
   "cell_type": "code",
   "execution_count": null,
   "id": "25b275d7-0f07-43ea-a914-9403db9837e0",
   "metadata": {},
   "outputs": [],
   "source": [
    "rgb_median = (\n",
    "    ds_median[['B04', 'B03', 'B02']]\n",
    "    .to_dataarray(dim=\"band\")\n",
    "    .transpose(..., \"band\")\n",
    ")\n",
    "(rgb_median / rgb_median.max() * 2).plot.imshow(rgb=\"band\", figsize=(10, 8))\n"
   ]
  },
  {
   "cell_type": "code",
   "execution_count": null,
   "id": "e0ffe2ea-e6b3-43b5-b23b-57c556f79572",
   "metadata": {},
   "outputs": [],
   "source": [
    "items = pystac_client.Client.open(\n",
    "    'https://planetarycomputer.microsoft.com/api/stac/v1'\n",
    ").search(\n",
    "    bbox=[minx,miny,maxx,maxy],\n",
    "    collections=[\"nasadem\"],\n",
    ").item_collection()\n",
    "dem_odc = odc.stac.load(\n",
    "    items,\n",
    "    bands=[\"elevation\"],\n",
    "    chunks={'time': 1, 'x': 100, 'y': 100},\n",
    "    geobox=geobox,\n",
    "    resampling=\"bilinear\",\n",
    "    patch_url=pc.sign\n",
    ")"
   ]
  },
  {
   "cell_type": "code",
   "execution_count": null,
   "id": "cdb851bd-94db-40be-b2d7-3e08a98f4adf",
   "metadata": {},
   "outputs": [],
   "source": [
    "with ProgressBar():\n",
    "    dem_odc.load()"
   ]
  },
  {
   "cell_type": "code",
   "execution_count": null,
   "id": "fb812eb1-5964-43b1-a87a-48af3ae9fba0",
   "metadata": {},
   "outputs": [],
   "source": [
    "ds_median[\"elev\"] = dem_odc.isel(time = 0).elevation"
   ]
  },
  {
   "cell_type": "code",
   "execution_count": null,
   "id": "ea00b408-fde5-4a15-8485-4e9ae3edf9a9",
   "metadata": {},
   "outputs": [],
   "source": [
    "ds_median"
   ]
  }
 ],
 "metadata": {
  "kernelspec": {
   "display_name": "Python 3 (ipykernel)",
   "language": "python",
   "name": "python3"
  },
  "language_info": {
   "codemirror_mode": {
    "name": "ipython",
    "version": 3
   },
   "file_extension": ".py",
   "mimetype": "text/x-python",
   "name": "python",
   "nbconvert_exporter": "python",
   "pygments_lexer": "ipython3",
   "version": "3.10.16"
  }
 },
 "nbformat": 4,
 "nbformat_minor": 5
}
